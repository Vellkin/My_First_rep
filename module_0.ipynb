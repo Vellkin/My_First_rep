{
 "cells": [
  {
   "cell_type": "code",
   "execution_count": 4,
   "metadata": {},
   "outputs": [
    {
     "name": "stdout",
     "output_type": "stream",
     "text": [
      "Загадано число от 1 до 100\n",
      "5\n",
      "Угадываемое число больше 5 \n",
      "75\n",
      "Угадываемое число меньше 75 \n",
      "35\n",
      "Угадываемое число больше 35 \n",
      "55\n",
      "Угадываемое число больше 55 \n",
      "65\n",
      "Угадываемое число больше 65 \n",
      "70\n",
      "Угадываемое число меньше 70 \n",
      "67\n",
      "Угадываемое число больше 67 \n",
      "69\n",
      "Вы угадали число 69 за 8 попыток.\n"
     ]
    }
   ],
   "source": [
    "    import numpy as np\n",
    "\n",
    "    count = 0                           # счетчик попыток\n",
    "    number = np.random.randint(1,101)   # загадали число\n",
    "    print (\"Загадано число от 1 до 100\")\n",
    "    \n",
    "    while True:                        # бесконечный цикл\n",
    "        predict = int(input())         # предполагаемое число\n",
    "        count += 1                     # плюсуем попытку\n",
    "        if number == predict: break    # выход из цикла, если угадали\n",
    "        elif number > predict: print (f\"Угадываемое число больше {predict} \")\n",
    "        elif number < predict: print (f\"Угадываемое число меньше {predict} \")\n",
    "            \n",
    "    print (f\"Вы угадали число {number} за {count} попыток.\")    "
   ]
  },
  {
   "cell_type": "code",
   "execution_count": null,
   "metadata": {},
   "outputs": [],
   "source": [
    "number = np.random.randint(1,101)      # загадали число\n",
    "print (\"Загадано число от 1 до 100\")\n",
    "for count in range(1,101):         # более компактный вариант счетчика\n",
    "    if number == count: break      # выход из цикла, если угадали      \n",
    "    print (f\"Вы угадали число {number} за {count} попыток.\")    "
   ]
  },
  {
   "cell_type": "code",
   "execution_count": 35,
   "metadata": {},
   "outputs": [
    {
     "data": {
      "text/plain": [
       "128"
      ]
     },
     "execution_count": 35,
     "metadata": {},
     "output_type": "execute_result"
    }
   ],
   "source": [
    "def game_core_v1(number):\n",
    "    '''Просто угадываем на random, никак не используя информацию о больше или меньше.\n",
    "       Функция принимает загаданное число и возвращает число попыток'''\n",
    "    count = 0\n",
    "    while True:\n",
    "        count+=1\n",
    "        predict = np.random.randint(1,101) # предполагаемое число\n",
    "        if number == predict: \n",
    "            return count # выход из цикла, если угадали\n",
    "game_core_v1(50)        "
   ]
  },
  {
   "cell_type": "code",
   "execution_count": 49,
   "metadata": {
    "scrolled": true
   },
   "outputs": [
    {
     "name": "stdout",
     "output_type": "stream",
     "text": [
      "Ваш алгоритм угадывает число в среднем за 5 попыток\n"
     ]
    },
    {
     "data": {
      "text/plain": [
       "5"
      ]
     },
     "execution_count": 49,
     "metadata": {},
     "output_type": "execute_result"
    }
   ],
   "source": [
    "import numpy as np\n",
    "\n",
    "def score_game(game_core):\n",
    "    '''Запускаем игру 1000 раз, чтобы узнать, как быстро игра угадывает число'''\n",
    "    count_ls = []\n",
    "    np.random.seed(1)  # фиксируем RANDOM SEED, чтобы ваш эксперимент был воспроизводим!\n",
    "    random_array = np.random.randint(1,101, size=(1000))\n",
    "    for number in random_array:\n",
    "        count_ls.append(game_core(number))\n",
    "    score = int(np.mean(count_ls))\n",
    "    print(f\"Ваш алгоритм угадывает число в среднем за {score} попыток\")\n",
    "    return(score)\n",
    "score_game(game_core_v2)"
   ]
  },
  {
   "cell_type": "code",
   "execution_count": 50,
   "metadata": {},
   "outputs": [
    {
     "data": {
      "text/plain": [
       "56"
      ]
     },
     "execution_count": 50,
     "metadata": {},
     "output_type": "execute_result"
    }
   ],
   "source": [
    "import numpy as np\n",
    "\n",
    "def game_core_v2(number):\n",
    "    '''Сначала устанавливаем любое random число, а потом уменьшаем или увеличиваем его в зависимости от того, больше оно или меньше нужного.\n",
    "       Функция принимает загаданное число и возвращает число попыток'''\n",
    "    count = 1\n",
    "    predict = np.random.randint(1,101)\n",
    "    while number != predict:\n",
    "        count+=1\n",
    "        if number > predict: \n",
    "            predict += 1\n",
    "        elif number < predict: \n",
    "            predict -= 1\n",
    "    return(count) # выход из цикла, если угадали\n",
    "\n",
    "game_core_v2(5)\n",
    "            "
   ]
  },
  {
   "cell_type": "code",
   "execution_count": 1,
   "metadata": {},
   "outputs": [
    {
     "data": {
      "text/plain": [
       "7"
      ]
     },
     "execution_count": 1,
     "metadata": {},
     "output_type": "execute_result"
    }
   ],
   "source": [
    "def game_core_v5(number):\n",
    "    '''Функция принимает на вход чило и сравнивает с ним среднее значение из возможных вариантов ответа,затем \n",
    "       находит среднее значение из оставшихся вариантов и продолжает сравнивать с заданным числом,пока они не\n",
    "       совпадут.Затем возвращает число попыток'''\n",
    "    min_n = 0\n",
    "    max_n = 100 # присваиваем переменным максимально и минимально возможные значения\n",
    "    x = max_n // 2 # находим среднее значение \n",
    "    count = 1 # переменная-счетчик попыток \n",
    "    while x != number:\n",
    "        count += 1\n",
    "        if number > x:\n",
    "            min_n = x+1\n",
    "        else:\n",
    "            max_n = x-1\n",
    "        x = (min_n+max_n)//2\n",
    "    return count # выход из цикла, если угадали\n",
    "game_core_v5(23)"
   ]
  },
  {
   "cell_type": "code",
   "execution_count": null,
   "metadata": {},
   "outputs": [],
   "source": []
  }
 ],
 "metadata": {
  "kernelspec": {
   "display_name": "Python 3",
   "language": "python",
   "name": "python3"
  },
  "language_info": {
   "codemirror_mode": {
    "name": "ipython",
    "version": 3
   },
   "file_extension": ".py",
   "mimetype": "text/x-python",
   "name": "python",
   "nbconvert_exporter": "python",
   "pygments_lexer": "ipython3",
   "version": "3.8.5"
  }
 },
 "nbformat": 4,
 "nbformat_minor": 4
}
